{
 "cells": [
  {
   "cell_type": "code",
   "execution_count": 1,
   "metadata": {},
   "outputs": [],
   "source": [
    "import numpy as np"
   ]
  },
  {
   "cell_type": "code",
   "execution_count": 6,
   "metadata": {},
   "outputs": [],
   "source": [
    "def dropout(x, dropout_rate):\n",
    "    if dropout_rate < 0. or dropout_rate >= 1.:\n",
    "        raise ValueError('Dropout rate must be in interval [0, 1]')\n",
    "    \n",
    "    retain_rate = 1 - dropout_rate\n",
    "    \n",
    "    random_tensor = np.random.binomial(n = 1, p = retain_rate, size = x.shape)\n",
    "    # numpy.random.binomial(n,p,size=None): n表示n次的试验，p表示的试验成功的概率，n可是是一个float但是也会被变成整数来使用。\n",
    "    print(random_tensor)\n",
    "    \n",
    "    x *= random_tensor\n",
    "    print(x)\n",
    "    x /= retain_rate # 期望不变（均值不变）\n",
    "    \n",
    "    return x"
   ]
  },
  {
   "cell_type": "code",
   "execution_count": 7,
   "metadata": {},
   "outputs": [
    {
     "name": "stdout",
     "output_type": "stream",
     "text": [
      "[1 1 1 1 0 1 1 1 0 1]\n",
      "[ 1.  2.  3.  4.  0.  6.  7.  8.  0. 10.]\n",
      "[ 1.6666666  3.3333333  5.         6.6666665  0.        10.\n",
      " 11.666666  13.333333   0.        16.666666 ]\n"
     ]
    }
   ],
   "source": [
    "x = np.asarray([1, 2, 3, 4, 5, 6, 7, 8, 9, 10], dtype = np.float32)\n",
    "dropout(x, 0.4)\n",
    "print(x)"
   ]
  },
  {
   "cell_type": "code",
   "execution_count": null,
   "metadata": {},
   "outputs": [],
   "source": [
    "'''此为参考'''\n",
    "\n",
    "def dropout(x, level):\n",
    "    if level < 0. or level >= 1: #level是概率值，必须在0~1之间\n",
    "        raise ValueError('Dropout level must be in interval [0, 1[.')\n",
    "    retain_prob = 1. - level\n",
    " \n",
    "    # 我们通过binomial函数，生成与x一样的维数向量。binomial函数就像抛硬币一样，我们可以把每个神经元当做抛硬币一样\n",
    "    # 硬币 正面的概率为p，n表示每个神经元试验的次数\n",
    "    # 因为我们每个神经元只需要抛一次就可以了所以n=1，size参数是我们有多少个硬币。\n",
    "    random_tensor = np.random.binomial(n=1, p=retain_prob, size=x.shape) #即将生成一个0、1分布的向量，0表示这个神经元被屏蔽，不工作了，也就是dropout了\n",
    "    print(random_tensor)\n",
    " \n",
    "    x *= random_tensor\n",
    "    print(x)\n",
    "    x /= retain_prob\n",
    " \n",
    "    return x\n",
    " \n",
    "#对dropout的测试，大家可以跑一下上面的函数，了解一个输入x向量，经过dropout的结果  \n",
    "x=np.asarray([1,2,3,4,5,6,7,8,9,10],dtype=np.float32)\n",
    "dropout(x,0.4)"
   ]
  }
 ],
 "metadata": {
  "kernelspec": {
   "display_name": "Python 3",
   "language": "python",
   "name": "python3"
  },
  "language_info": {
   "codemirror_mode": {
    "name": "ipython",
    "version": 3
   },
   "file_extension": ".py",
   "mimetype": "text/x-python",
   "name": "python",
   "nbconvert_exporter": "python",
   "pygments_lexer": "ipython3",
   "version": "3.7.7"
  }
 },
 "nbformat": 4,
 "nbformat_minor": 4
}
