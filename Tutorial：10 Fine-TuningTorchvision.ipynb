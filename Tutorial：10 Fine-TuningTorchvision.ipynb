{
 "cells": [
  {
   "cell_type": "markdown",
   "metadata": {},
   "source": [
    "# 微调 Torchvision 模型\n"
   ]
  },
  {
   "cell_type": "markdown",
   "metadata": {},
   "source": [
    "仍然执行两种类型的转移学习：  \n",
    "**微调和特征提取**  \n",
    "  \n",
    "在*微调*中：从预训练模型开始，更新我们新任务的所有模型参数，实质上是重新训练整个模型。  \n",
    "在*特征提取*中：从预训练模型开始，仅更新从中导出预测的最终图层权重。它被称为特征提取，因为使用预训练的CNN作为固定的特征提取器，并且仅改变输出层。 "
   ]
  },
  {
   "cell_type": "markdown",
   "metadata": {},
   "source": [
    "两种迁移学习方法都遵循以下几个步骤：  \n",
    "\n",
    "1. 初始化预训练模型  \n",
    "2. 重组最后一层，使其具有与新数据集类别数相同的输出数  \n",
    "3. 为优化算法定义我们想要在训练期间更新的参数  \n",
    "4. 运行训练步骤  "
   ]
  },
  {
   "cell_type": "markdown",
   "metadata": {},
   "source": [
    "## 1. 导入相关包并打印版本号"
   ]
  },
  {
   "cell_type": "code",
   "execution_count": 1,
   "metadata": {},
   "outputs": [],
   "source": [
    "import torch\n",
    "import torch.nn as nn\n",
    "import numpy as np\n",
    "import torch.optim as optim\n",
    "import torchvision\n",
    "from torchvision import datasets, models, transforms\n",
    "import matplotlib.pyplot as plt\n",
    "import time\n",
    "import os\n",
    "import copy"
   ]
  },
  {
   "cell_type": "code",
   "execution_count": 2,
   "metadata": {},
   "outputs": [
    {
     "name": "stdout",
     "output_type": "stream",
     "text": [
      "Torch Version:  1.6.0\n",
      "Torchvision Version:  0.7.0\n"
     ]
    }
   ],
   "source": [
    "print(\"Torch Version: \", torch.__version__)\n",
    "print(\"Torchvision Version: \", torchvision.__version__)"
   ]
  },
  {
   "cell_type": "markdown",
   "metadata": {},
   "source": [
    "## 2. 输入"
   ]
  },
  {
   "cell_type": "code",
   "execution_count": 3,
   "metadata": {},
   "outputs": [],
   "source": [
    "data_dir = \"./data/hymenoptera_data\"\n",
    "\n",
    "# 从[resnet, alexnet, vgg, squeezenet, densenet, inception]中选择模型\n",
    "model_name = \"squeezenet\"\n",
    "\n",
    "num_classes = 2\n",
    "\n",
    "batch_size = 8\n",
    "\n",
    "epochs = 10\n",
    "\n",
    "# 用于特征提取的标志。\n",
    "# 当为False时，微调整个模型， \n",
    "#当True时只更新重新形成的图层参数 \n",
    "feature_extract = True"
   ]
  },
  {
   "cell_type": "markdown",
   "metadata": {},
   "source": [
    "## 3. 辅助函数"
   ]
  },
  {
   "cell_type": "code",
   "execution_count": null,
   "metadata": {},
   "outputs": [],
   "source": []
  }
 ],
 "metadata": {
  "kernelspec": {
   "display_name": "Python 3",
   "language": "python",
   "name": "python3"
  },
  "language_info": {
   "codemirror_mode": {
    "name": "ipython",
    "version": 3
   },
   "file_extension": ".py",
   "mimetype": "text/x-python",
   "name": "python",
   "nbconvert_exporter": "python",
   "pygments_lexer": "ipython3",
   "version": "3.7.7"
  }
 },
 "nbformat": 4,
 "nbformat_minor": 4
}
