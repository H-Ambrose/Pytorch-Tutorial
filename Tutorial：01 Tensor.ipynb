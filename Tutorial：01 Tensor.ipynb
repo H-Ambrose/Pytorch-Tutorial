{
 "cells": [
  {
   "cell_type": "code",
   "execution_count": 1,
   "metadata": {},
   "outputs": [],
   "source": [
    "import torch"
   ]
  },
  {
   "cell_type": "code",
   "execution_count": 3,
   "metadata": {},
   "outputs": [
    {
     "name": "stdout",
     "output_type": "stream",
     "text": [
      "tensor([[0.2638, 0.3116, 0.8970],\n",
      "        [0.9697, 0.8787, 0.3464],\n",
      "        [0.1207, 0.9994, 0.8744],\n",
      "        [0.9593, 0.8532, 0.1355],\n",
      "        [0.5581, 0.6917, 0.3145]])\n"
     ]
    }
   ],
   "source": [
    "x = torch.rand(5, 3)\n",
    "print(x)"
   ]
  },
  {
   "cell_type": "code",
   "execution_count": 4,
   "metadata": {},
   "outputs": [
    {
     "name": "stdout",
     "output_type": "stream",
     "text": [
      "tensor([[ 0.0000e+00,  0.0000e+00,  0.0000e+00],\n",
      "        [ 0.0000e+00,  0.0000e+00,  0.0000e+00],\n",
      "        [ 0.0000e+00,  0.0000e+00,  0.0000e+00],\n",
      "        [ 0.0000e+00,  0.0000e+00,  0.0000e+00],\n",
      "        [ 0.0000e+00,  0.0000e+00, -2.4845e-29]])\n"
     ]
    }
   ],
   "source": [
    "x = torch.empty(5, 3)\n",
    "print(x)"
   ]
  },
  {
   "cell_type": "code",
   "execution_count": 5,
   "metadata": {},
   "outputs": [
    {
     "name": "stdout",
     "output_type": "stream",
     "text": [
      "tensor([[31244147623002222, 25896114475761774, 32370129135075429],\n",
      "        [29555336415412316, 30399692628492398, 32370017465139305],\n",
      "        [12666807751278697, 30118247716159600, 32370056120172641],\n",
      "        [31244212048494684, 26740621011058797, 30399774233395316],\n",
      "        [25896196080468075, 32088624093200499, 32651599816097908]])\n"
     ]
    }
   ],
   "source": [
    "x = torch.empty(5, 3, dtype = torch.long)\n",
    "print(x)"
   ]
  },
  {
   "cell_type": "code",
   "execution_count": 8,
   "metadata": {},
   "outputs": [
    {
     "name": "stdout",
     "output_type": "stream",
     "text": [
      "tensor([[0, 0, 0],\n",
      "        [0, 0, 0],\n",
      "        [0, 0, 0],\n",
      "        [0, 0, 0],\n",
      "        [0, 0, 0]], dtype=torch.int32)\n"
     ]
    }
   ],
   "source": [
    "x = torch.zeros(5, 3, dtype = torch.int)\n",
    "print(x)"
   ]
  },
  {
   "cell_type": "code",
   "execution_count": 9,
   "metadata": {},
   "outputs": [
    {
     "name": "stdout",
     "output_type": "stream",
     "text": [
      "tensor([5, 3])\n"
     ]
    }
   ],
   "source": [
    "# 创建张量\n",
    "x = torch.tensor([5, 3])\n",
    "print(x)"
   ]
  },
  {
   "cell_type": "code",
   "execution_count": 10,
   "metadata": {},
   "outputs": [
    {
     "name": "stdout",
     "output_type": "stream",
     "text": [
      "tensor([[1., 1., 1.],\n",
      "        [1., 1., 1.],\n",
      "        [1., 1., 1.],\n",
      "        [1., 1., 1.],\n",
      "        [1., 1., 1.]], dtype=torch.float64)\n",
      "tensor([[-0.0468, -0.9178,  1.6719],\n",
      "        [-1.4244, -0.0846, -1.8017],\n",
      "        [ 1.0461, -1.1064,  1.1012],\n",
      "        [-0.6666,  0.0573,  1.1604],\n",
      "        [ 0.8315, -1.1735, -0.7207]])\n"
     ]
    }
   ],
   "source": [
    "x = x.new_ones(5, 3, dtype = torch.double)\n",
    "print(x)\n",
    "x = torch.randn_like(x, dtype = torch.float)\n",
    "print(x)"
   ]
  },
  {
   "cell_type": "code",
   "execution_count": 11,
   "metadata": {},
   "outputs": [
    {
     "name": "stdout",
     "output_type": "stream",
     "text": [
      "torch.Size([5, 3])\n"
     ]
    }
   ],
   "source": [
    "print(x.size())  # 获得一个元组"
   ]
  },
  {
   "cell_type": "code",
   "execution_count": 16,
   "metadata": {
    "collapsed": true
   },
   "outputs": [
    {
     "name": "stdout",
     "output_type": "stream",
     "text": [
      "tensor([[ 1.0174, -1.9435, -0.6291],\n",
      "        [-0.2296, -0.0181, -2.8150],\n",
      "        [ 1.1150, -0.5916,  1.9517],\n",
      "        [-1.7134,  0.7695,  1.6056],\n",
      "        [ 2.5827, -3.3902, -1.3257]])\n",
      "tensor([[ 1.0174, -1.9435, -0.6291],\n",
      "        [-0.2296, -0.0181, -2.8150],\n",
      "        [ 1.1150, -0.5916,  1.9517],\n",
      "        [-1.7134,  0.7695,  1.6056],\n",
      "        [ 2.5827, -3.3902, -1.3257]])\n",
      "tensor([[ 1.0174, -1.9435, -0.6291],\n",
      "        [-0.2296, -0.0181, -2.8150],\n",
      "        [ 1.1150, -0.5916,  1.9517],\n",
      "        [-1.7134,  0.7695,  1.6056],\n",
      "        [ 2.5827, -3.3902, -1.3257]])\n",
      "tensor([[ 1.0174, -1.9435, -0.6291],\n",
      "        [-0.2296, -0.0181, -2.8150],\n",
      "        [ 1.1150, -0.5916,  1.9517],\n",
      "        [-1.7134,  0.7695,  1.6056],\n",
      "        [ 2.5827, -3.3902, -1.3257]])\n"
     ]
    }
   ],
   "source": [
    "# 加法\n",
    "y = torch.randn(5, 3)\n",
    "print(x+y)\n",
    "print(torch.add(x, y))\n",
    "result = torch.empty(5,3)\n",
    "torch.add(x, y, out = result)\n",
    "print(result)\n",
    "# in place 加法\n",
    "y.add_(x)\n",
    "print(y)"
   ]
  },
  {
   "cell_type": "code",
   "execution_count": 17,
   "metadata": {},
   "outputs": [
    {
     "name": "stdout",
     "output_type": "stream",
     "text": [
      "tensor([[-0.0468, -0.9178,  1.6719],\n",
      "        [-1.4244, -0.0846, -1.8017],\n",
      "        [ 1.0461, -1.1064,  1.1012],\n",
      "        [-0.6666,  0.0573,  1.1604],\n",
      "        [ 0.8315, -1.1735, -0.7207]])\n",
      "tensor([[-0.0468, -0.9178,  1.6719]])\n"
     ]
    }
   ],
   "source": [
    "# 切片+取值\n",
    "print(x)\n",
    "print(x[:1])"
   ]
  },
  {
   "cell_type": "code",
   "execution_count": 18,
   "metadata": {},
   "outputs": [
    {
     "name": "stdout",
     "output_type": "stream",
     "text": [
      "torch.Size([4, 4]) torch.Size([16]) torch.Size([2, 8])\n"
     ]
    }
   ],
   "source": [
    "# 改变大小\n",
    "x = torch.randn(4, 4)\n",
    "y = x.view(16)\n",
    "z = x.view(-1, 8)  # -1代表不给出维度直接推断出来\n",
    "print(x.size(), y.size(), z.size())"
   ]
  },
  {
   "cell_type": "code",
   "execution_count": 19,
   "metadata": {},
   "outputs": [
    {
     "name": "stdout",
     "output_type": "stream",
     "text": [
      "tensor([[ 0.6656, -0.6101, -0.8932,  1.1866],\n",
      "        [-1.0830, -1.6736, -0.2389, -1.2260],\n",
      "        [-0.2945, -0.0823,  1.0117, -1.1041],\n",
      "        [ 0.4991, -1.0487, -0.7827, -0.3319]])\n"
     ]
    },
    {
     "ename": "ValueError",
     "evalue": "only one element tensors can be converted to Python scalars",
     "output_type": "error",
     "traceback": [
      "\u001b[1;31m---------------------------------------------------------------------------\u001b[0m",
      "\u001b[1;31mValueError\u001b[0m                                Traceback (most recent call last)",
      "\u001b[1;32m<ipython-input-19-5415b7fec14e>\u001b[0m in \u001b[0;36m<module>\u001b[1;34m\u001b[0m\n\u001b[0;32m      1\u001b[0m \u001b[1;31m#　使用.item()从tensor中获取value\u001b[0m\u001b[1;33m\u001b[0m\u001b[1;33m\u001b[0m\u001b[1;33m\u001b[0m\u001b[0m\n\u001b[0;32m      2\u001b[0m \u001b[0mprint\u001b[0m\u001b[1;33m(\u001b[0m\u001b[0mx\u001b[0m\u001b[1;33m)\u001b[0m\u001b[1;33m\u001b[0m\u001b[1;33m\u001b[0m\u001b[0m\n\u001b[1;32m----> 3\u001b[1;33m \u001b[0mprint\u001b[0m\u001b[1;33m(\u001b[0m\u001b[0mx\u001b[0m\u001b[1;33m.\u001b[0m\u001b[0mitem\u001b[0m\u001b[1;33m(\u001b[0m\u001b[1;33m)\u001b[0m\u001b[1;33m)\u001b[0m\u001b[1;33m\u001b[0m\u001b[1;33m\u001b[0m\u001b[0m\n\u001b[0m",
      "\u001b[1;31mValueError\u001b[0m: only one element tensors can be converted to Python scalars"
     ]
    }
   ],
   "source": [
    "#　使用.item()从tensor中获取value\n",
    "print(x)\n",
    "print(x.item())"
   ]
  },
  {
   "cell_type": "code",
   "execution_count": 21,
   "metadata": {},
   "outputs": [
    {
     "name": "stdout",
     "output_type": "stream",
     "text": [
      "tensor([1.8268])\n",
      "1.8267745971679688\n"
     ]
    }
   ],
   "source": [
    "#　使用.item()从tensor中获取value\n",
    "x = torch.randn(1)\n",
    "print(x)\n",
    "print(x.item())"
   ]
  },
  {
   "cell_type": "markdown",
   "metadata": {},
   "source": [
    "### 自动微分"
   ]
  },
  {
   "cell_type": "code",
   "execution_count": 23,
   "metadata": {},
   "outputs": [
    {
     "name": "stdout",
     "output_type": "stream",
     "text": [
      "tensor([[1., 1.],\n",
      "        [1., 1.]], requires_grad=True)\n",
      "tensor([[3., 3.],\n",
      "        [3., 3.]], grad_fn=<AddBackward0>)\n",
      "<AddBackward0 object at 0x0000019D82620C88>\n"
     ]
    }
   ],
   "source": [
    "x = torch.ones(2, 2, requires_grad = True)\n",
    "print(x)\n",
    "y = x + 2\n",
    "print(y)\n",
    "# y有gran_fn\n",
    "print(y.grad_fn)"
   ]
  },
  {
   "cell_type": "code",
   "execution_count": 25,
   "metadata": {},
   "outputs": [
    {
     "name": "stdout",
     "output_type": "stream",
     "text": [
      "tensor([[9., 9.],\n",
      "        [9., 9.]], grad_fn=<MulBackward0>)\n",
      "tensor([[27., 27.],\n",
      "        [27., 27.]], grad_fn=<MulBackward0>) tensor(27., grad_fn=<MeanBackward0>)\n"
     ]
    }
   ],
   "source": [
    "print(y * y)\n",
    "z = y * y * 3\n",
    "out = z.mean()  # 计算每一行的平均数\n",
    "print(z, out)"
   ]
  },
  {
   "cell_type": "code",
   "execution_count": 29,
   "metadata": {},
   "outputs": [
    {
     "name": "stdout",
     "output_type": "stream",
     "text": [
      "False\n",
      "True\n",
      "-------\n",
      "True\n",
      "None\n",
      "<MulBackward0 object at 0x0000019D82619288>\n",
      "<MeanBackward0 object at 0x0000019D82619288>\n"
     ]
    }
   ],
   "source": [
    "a = torch.randn(2, 2)\n",
    "print(a.requires_grad)\n",
    "a.requires_grad = True\n",
    "print(a.requires_grad)\n",
    "print('-------')\n",
    "b = torch.randn(2, 2, requires_grad = True)\n",
    "print(b.requires_grad)\n",
    "print(b.grad_fn)\n",
    "b = a * a\n",
    "print(b.grad_fn)\n",
    "b = b.mean()\n",
    "print(b.grad_fn)"
   ]
  },
  {
   "cell_type": "code",
   "execution_count": 30,
   "metadata": {},
   "outputs": [
    {
     "name": "stdout",
     "output_type": "stream",
     "text": [
      "tensor([[1., 1.],\n",
      "        [1., 1.]], requires_grad=True)\n",
      "None\n"
     ]
    }
   ],
   "source": [
    "print(x)\n",
    "print(x.grad)"
   ]
  },
  {
   "cell_type": "code",
   "execution_count": 32,
   "metadata": {},
   "outputs": [
    {
     "name": "stdout",
     "output_type": "stream",
     "text": [
      "tensor([0.7901, 0.0923, 1.1067], requires_grad=True)\n",
      "tensor([1.5801, 0.1847, 2.2134], grad_fn=<MulBackward0>)\n",
      "tensor([ 809.0308,   94.5475, 1133.2550], grad_fn=<MulBackward0>)\n"
     ]
    }
   ],
   "source": [
    "x = torch.randn(3, requires_grad = True)\n",
    "y = x * 2\n",
    "print(x)\n",
    "print(y)\n",
    "while y.data.norm() < 1000:\n",
    "    y = y * 2\n",
    "print(y)"
   ]
  },
  {
   "cell_type": "code",
   "execution_count": 33,
   "metadata": {},
   "outputs": [
    {
     "name": "stdout",
     "output_type": "stream",
     "text": [
      "tensor([1.0240e+02, 1.0240e+03, 1.0240e-01])\n"
     ]
    }
   ],
   "source": [
    "v = torch.tensor([0.1, 1.0, 0.0001], dtype = torch.float)\n",
    "y.backward(v)\n",
    "print(x.grad)"
   ]
  },
  {
   "cell_type": "code",
   "execution_count": 34,
   "metadata": {},
   "outputs": [
    {
     "name": "stdout",
     "output_type": "stream",
     "text": [
      "True\n",
      "True\n",
      "False\n"
     ]
    }
   ],
   "source": [
    "print(x.requires_grad)\n",
    "print((x ** 2).requires_grad)\n",
    "with torch.no_grad():\n",
    "    print((x ** 2).requires_grad)"
   ]
  },
  {
   "cell_type": "code",
   "execution_count": 35,
   "metadata": {},
   "outputs": [
    {
     "data": {
      "text/plain": [
       "'\\n一个典型的神经网络训练过程包括以下几点：\\n1.定义一个包含可训练参数的神经网络\\n2.迭代整个输入\\n3.通过神经网络处理输入\\n4.计算损失(loss)\\n5.反向传播梯度到神经网络的参数\\n6.更新网络的参数，典型的用一个简单的更新方法：weight\\xa0=\\xa0weight\\xa0-\\xa0learning_rate\\xa0*gradient\\n'"
      ]
     },
     "execution_count": 35,
     "metadata": {},
     "output_type": "execute_result"
    }
   ],
   "source": [
    "# Pytorch神经网络\n",
    "'''\n",
    "一个典型的神经网络训练过程包括以下几点：\n",
    "1.定义一个包含可训练参数的神经网络\n",
    "2.迭代整个输入\n",
    "3.通过神经网络处理输入\n",
    "4.计算损失(loss)\n",
    "5.反向传播梯度到神经网络的参数\n",
    "6.更新网络的参数，典型的用一个简单的更新方法：weight = weight - learning_rate *gradient\n",
    "'''"
   ]
  }
 ],
 "metadata": {
  "kernelspec": {
   "display_name": "Python 3",
   "language": "python",
   "name": "python3"
  },
  "language_info": {
   "codemirror_mode": {
    "name": "ipython",
    "version": 3
   },
   "file_extension": ".py",
   "mimetype": "text/x-python",
   "name": "python",
   "nbconvert_exporter": "python",
   "pygments_lexer": "ipython3",
   "version": "3.7.7"
  }
 },
 "nbformat": 4,
 "nbformat_minor": 4
}
